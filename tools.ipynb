{
 "cells": [
  {
   "cell_type": "code",
   "execution_count": 2,
   "id": "28d8b8c5",
   "metadata": {},
   "outputs": [],
   "source": [
    "from langchain_community.tools import ArxivQueryRun,WikipediaQueryRun\n",
    "from langchain_community.utilities import WikipediaAPIWrapper,ArxivAPIWrapper"
   ]
  },
  {
   "cell_type": "code",
   "execution_count": 3,
   "id": "2e072ad5",
   "metadata": {},
   "outputs": [
    {
     "name": "stdout",
     "output_type": "stream",
     "text": [
      "arxiv\n"
     ]
    }
   ],
   "source": [
    "api_wrapper_arxiv=ArxivAPIWrapper(top_k_results=2,doc_content_chars_max=500)\n",
    "arxiv=ArxivQueryRun(api_wrapper=api_wrapper_arxiv,description=\"Query arxiv papers\")\n",
    "print(arxiv. name )"
   ]
  },
  {
   "cell_type": "code",
   "execution_count": 4,
   "id": "6d76cae6",
   "metadata": {},
   "outputs": [
    {
     "data": {
      "text/plain": [
       "\"Published: 2024-07-22\\nTitle: Attention Is All You Need But You Don't Need All Of It For Inference of Large Language Models\\nAuthors: Georgy Tyukin, Gbetondji J-S Dovonon, Jean Kaddour, Pasquale Minervini\\nSummary: The inference demand for LLMs has skyrocketed in recent months, and serving\\nmodels with low latencies remains challenging due to the quadratic input length\\ncomplexity of the attention layers. In this work, we investigate the effect of\\ndropping MLP and attention layers at inference time o\""
      ]
     },
     "execution_count": 4,
     "metadata": {},
     "output_type": "execute_result"
    }
   ],
   "source": [
    "arxiv.invoke(\"Attention is all you need\")"
   ]
  },
  {
   "cell_type": "code",
   "execution_count": 5,
   "id": "9a48bc83",
   "metadata": {},
   "outputs": [
    {
     "data": {
      "text/plain": [
       "'wikipedia'"
      ]
     },
     "execution_count": 5,
     "metadata": {},
     "output_type": "execute_result"
    }
   ],
   "source": [
    "api_wrapper_wiki=WikipediaAPIWrapper (top_k_results=1, doc_content_chars_max=500)\n",
    "wiki=WikipediaQueryRun(api_wrapper=api_wrapper_wiki)\n",
    "wiki. name"
   ]
  },
  {
   "cell_type": "code",
   "execution_count": 6,
   "id": "77bbc223",
   "metadata": {},
   "outputs": [],
   "source": [
    "from dotenv import load_dotenv\n",
    "load_dotenv()\n",
    "import os\n",
    "os. environ[\"TAVILY _API_KEY\"]=os.getenv(\"TAVILY_API_KEY\")\n",
    "os. environ[\"GROQ API_KEY\" ]=os.getenv(\"GROQ_API_KEY\")"
   ]
  },
  {
   "cell_type": "code",
   "execution_count": 7,
   "id": "16237c56",
   "metadata": {},
   "outputs": [],
   "source": [
    "from langchain_community.tools.tavily_search import TavilySearchResults\n",
    "\n",
    "tavily = TavilySearchResults()"
   ]
  },
  {
   "cell_type": "code",
   "execution_count": 8,
   "id": "27a3a033",
   "metadata": {},
   "outputs": [
    {
     "data": {
      "text/plain": [
       "[{'title': '5 AI Trends Shaping the Future of Public Sector in 2025',\n",
       "  'url': 'https://cloud.google.com/blog/topics/public-sector/5-ai-trends-shaping-the-future-of-the-public-sector-in-2025',\n",
       "  'content': \"According to a recent Google commissioned IDC study that surveyed 161 federal Chief AI Officers and other AI decision makers, 50% of agencies reported high levels of AI maturity, which corresponds to mature behaviors like embracing an innovation culture and piloting generative AI use cases to drive mission impact.\\n\\nLet's dive into five AI trends we believe will shape the future of the public sector in the year ahead.\\n\\nTrend #1: Multimodal AI: Unleashing the power of context [...] Trend #4: AI-powered constituent experience: seamless and personalized\\n\\nIn 2025, AI will help improve citizen experiences. AI-powered tools and technologies can build trust and foster closer citizen-government relationships by enabling citizens to quickly and easily navigate government websites and services—such as applying for permits and licenses—offered in multiple languages and available 24/7. [...] Google AI empowers Hawaii Department of Transportation (HDOT) to address climate challenges. By leveraging Google Earth Engine and Google Cloud to deploy a Climate Resilience Platform, they are able to assess risk and prioritize investment decisions based on multiple climate risks, asset conditions, and community impact.\\n\\nTrend #2: AI agents: The evolution from chatbots to multi-agent systems\",\n",
       "  'score': 0.7923522},\n",
       " {'title': '14 AI Trends Transforming Tech in 2025 and Beyond | DigitalOcean',\n",
       "  'url': 'https://www.digitalocean.com/resources/articles/ai-trends',\n",
       "  'content': 'From AI-powered search engines enabling interactive knowledge synthesis to generative systems transforming creative work to intelligent automation reshaping industrial processes, new AI developments are emerging daily, both online and IRL. We see this in real-world applications: ChatGPT and Perplexity transforming information discovery, GitHub Copilot and Replit changing how developers build software, and smart factories optimizing production in real-time. These AI trends are bringing the realm [...] AI trends typically involve:\\n\\nEmerging technologies: Innovations like generative AI or multimodal AI that introduce new capabilities or drastically improve existing ones.\\n\\nWidespread adoption: Technologies or methodologies that are being rapidly integrated across various industries, such as AI-powered personalization or conversational AI.\\n\\nRegulatory and ethical shifts: Changes in how we approach AI ethics and regulations to keep up with its advancements. [...] An AI trend is an emerging pattern in how artificial intelligence is solving problems or creating new possibilities in business and technology. An AI trend becomes evident when multiple companies, products, and use cases demonstrate similar advances or approaches that signal a larger shift in whatâ\\x80\\x99s possible with AI. An AI trend differs from a mere development by showing sustained momentum and widespread impact, rather than just being a one-off innovation or product launch.',\n",
       "  'score': 0.7703443},\n",
       " {'title': 'Five Trends in AI and Data Science for 2025',\n",
       "  'url': 'https://sloanreview.mit.edu/article/five-trends-in-ai-and-data-science-for-2025/',\n",
       "  'content': 'Our spring 2025 issue focuses on innovation, developing KPIs, building a learning culture collaborating on climate initiatives, and more.\\n\\nOur spring 2025 issue focuses on innovation, developing KPIs, building a learning culture collaborating on climate initiatives, and more.\\n\\nFive Trends in AI and Data Science for 2025\\n\\nFrom agentic AI to unstructured data, these 2025 AI trends deserve close attention from leaders. Get fresh data and advice from two experts.\\n\\nTopics\\n\\nAI in Action [...] Let’s get agentic AI — the kind of AI that does tasks independently — out of the way first: It’s a sure bet for 2025’s “most trending AI trend.” Agentic AI seems to be on an inevitable rise: Everybody in the tech vendor and analyst worlds is excited about the prospect of having AI programs collaborate to do real work instead of just generating content, even though nobody is entirely sure how it will all work. Some IT leaders think they already have it (37%, in a forthcoming UiPath-sponsored [...] Generative AI has had another impact on organizations: It’s making unstructured data important again. In the 2025 AI & Data Leadership Executive Benchmark Survey, 94% of data and AI leaders said that interest in AI is leading to a greater focus on data. Since traditional analytical AI has been around for several decades, we think they were referring to GenAI’s impact. In another survey that we mentioned in last year’s AI trends article, there was substantial evidence that most companies hadn’t',\n",
       "  'score': 0.74385756},\n",
       " {'title': '8 AI and machine learning trends to watch in 2025 | TechTarget',\n",
       "  'url': 'https://www.techtarget.com/searchenterpriseai/tip/9-top-AI-and-machine-learning-trends',\n",
       "  'content': \"Companies are increasingly looking for proven results from generative AI, rather than early-stage prototypes. That's no easy feat for a technology that's often expensive, error-prone and vulnerable to misuse. And regulators will need to balance innovation and safety, while keeping up with a fast-moving tech environment.\\n\\nHere are eight of the top AI trends to prepare for in 2025.\\n\\n1. Hype gives way to more pragmatic approaches [...] Heading into 2025, some areas of AI development are starting to move away from text-based interfaces entirely. Increasingly, the future of AI looks to center around multimodal models, like OpenAI's text-to-video Sora and ElevenLabs' AI voice generator, which can handle nontext data types, such as audio, video and images. [...] 8 AI and machine learning trends to watch in 2025\\n\\nAI agents, multimodal models, an emphasis on real-world results -- learn about the top AI and machine learning trends and what they mean for businesses in 2025.\\n\\nGenerative AI is at a crossroads. It's now more than two years since ChatGPT's launch, and the initial optimism about AI's potential is decidedly tempered by an awareness of its limitations and costs.\",\n",
       "  'score': 0.7393665},\n",
       " {'title': 'Top 5 AI Trends to Watch in 2025 - Coursera',\n",
       "  'url': 'https://www.coursera.org/articles/ai-trends',\n",
       "  'content': '1. More GenAI app integration · 2. Increasing AI adoption in the workplace · 3. More advanced multimodal AI · 4. AI will accelerate scientific',\n",
       "  'score': 0.657297}]"
      ]
     },
     "execution_count": 8,
     "metadata": {},
     "output_type": "execute_result"
    }
   ],
   "source": [
    "tavily.invoke(\"Recent AI trends\")"
   ]
  },
  {
   "cell_type": "code",
   "execution_count": 9,
   "id": "d425769c",
   "metadata": {},
   "outputs": [],
   "source": [
    "tools = [arxiv, wiki, tavily]"
   ]
  },
  {
   "cell_type": "code",
   "execution_count": 10,
   "id": "b5490887",
   "metadata": {},
   "outputs": [],
   "source": [
    "from langchain_groq import ChatGroq\n",
    "\n",
    "llm = ChatGroq(model=\"qwen-qwq-32b\")"
   ]
  },
  {
   "cell_type": "code",
   "execution_count": 12,
   "id": "f85f0a05",
   "metadata": {},
   "outputs": [
    {
     "data": {
      "text/plain": [
       "AIMessage(content='\\n<think>\\nOkay, so I need to figure out the recent trends in AI. Let me start by recalling what I know. AI has been a hot topic for a while, but what\\'s new lately? Maybe something with large language models? I remember hearing about GPT-3 and now GPT-4. Oh, and there\\'s also stuff like DALL-E for images. But the user is asking for trends, so maybe more recent than that?\\n\\nHmm, I think there was something about multi-modal models. Those can handle different types of data, like text and images together. Maybe that\\'s a trend. Also, I\\'ve heard about generative AI being used more in creative fields, like generating art or music. Maybe that\\'s part of it.\\n\\nWait, there was a big deal about the EU\\'s AI Act. Is regulation a trend now? I think governments are getting more involved in regulating AI to prevent misuse. So maybe regulatory frameworks are a trend. Also, ethical AI, like making sure algorithms are fair and don\\'t have biases. That\\'s important too.\\n\\nEdge AI is another term I\\'ve come across. That\\'s where AI runs on devices like smartphones or IoT gadgets instead of the cloud. That could be a trend because it saves bandwidth and is faster. Oh, and robotics and autonomous systems—maybe more advanced robots in healthcare or manufacturing?\\n\\nQuantum computing and AI? I\\'m not too sure, but maybe there\\'s some overlap where quantum computers can speed up AI training or something. Explainability in AI models is another thing. People want to know how an AI makes decisions, especially in critical areas like healthcare or finance.\\n\\nGenerative AI as a service? Platforms like OpenAI\\'s API or Hugging Face offering tools for developers. That lowers the barrier for entry, so more companies can use AI without building everything from scratch. Also, AI in healthcare is booming, like diagnostics using medical images or predicting diseases.\\n\\nExplainability, regulation, multi-modality, generative models as a service, edge AI, quantum, robotics... What else? Maybe personalization? Like AI tailoring experiences for individuals, such as in entertainment or shopping. Also, reinforcement learning and how it\\'s applied in robotics or game playing.\\n\\nI should also think about recent breakthroughs. For example, the latest models from Meta or Google. Maybe something with video or 3D data? Or better NLP models. Oh, and adversarial attacks and security—making AI systems more robust against attacks.\\n\\nWait, there\\'s also something called \"foundation models\" which are big models that can be fine-tuned for various tasks. That\\'s part of the trend, right? Also, sustainability is a trend, trying to make AI models more energy efficient.\\n\\nI need to organize these thoughts. Let me list possible trends and then check if they\\'re recent or just ongoing. Maybe the user wants the most up-to-date ones. Let me think of 2023-2024 trends. Edge AI, generative AI as a service, multi-modal models, regulatory stuff, quantum-AI, healthcare applications, and sustainability.\\n\\nAlso, maybe the rise of AI in creative industries, like AI-generated content, but that\\'s part of generative AI. There\\'s also the concept of AI agents, like chatbots that can do more complex tasks, maybe integrating with other tools. That could be part of the broader trend towards more integrated and capable AI systems.\\n\\nI should also consider the societal impact, like job displacement but also new job creation, but that\\'s more of a consequence than a trend in the technology itself. Oh, and maybe the use of AI in climate science or environmental monitoring?\\n\\nHmm, maybe I missed something. Federated learning, where models are trained on decentralized data? Or maybe AI in cybersecurity, detecting threats more effectively.\\n\\nLet me try to structure this into categories and see which are the most recent. I\\'ll need to make sure each point is a trend and not just a general AI concept. For example, multi-modal models are definitely a current trend, especially with models like GPT-4 and others that handle images and text together.\\n\\nI think that\\'s a good start. Now I can list these points more formally, making sure each is a recent trend and not something from a few years back. Maybe also mention specific examples or companies involved for each trend to make it concrete.\\n</think>\\n\\nHere\\'s a structured overview of the recent trends in AI, organized by category and including key examples and developments:\\n\\n---\\n\\n### **1. Generative AI & Multi-Modal Models**\\n- **Generative AI as a Service (GaaS):** Platforms like OpenAI’s API, Hugging Face Hub, and Amazon SageMaker enable developers to integrate generative AI into apps without building models from scratch.\\n- **Multi-Modal Models:** Advanced models like Meta’s Llama series, Google’s Gemini, and Microsoft’s PaLM 3 handle text, images, audio, and video simultaneously, enabling tasks like video summarization or contextual image generation.\\n- **Creative Industries:** Tools like DALL-E 3, MidJourney, and Runway ML are widely adopted for art, design, and content creation, sparking debates about copyright and originality.\\n\\n---\\n\\n### **2. Regulation & Ethics**\\n- **Governmental Regulation:** The EU’s AI Act (2024 enforcement) classifies AI systems by risk (e.g., banning \"unacceptable\" uses like social scoring) and mandates transparency.\\n- **Ethical AI:** Efforts to reduce bias in hiring, lending, and criminal justice algorithms. Companies like IBM and Google publish guidelines for ethical AI deployment.\\n- **Transparency Initiatives:** Tools like Google’s Vision Benchmark Suite and Microsoft’s AI for Accessibility focus on explainability and fairness.\\n\\n---\\n\\n### **3. Edge AI**\\n- **On-Device Processing:** Frameworks like Apple’s Core ML and NVIDIA’s Jetson allow real-time inference without cloud latency, critical for autonomous vehicles and wearables.\\n- **Privacy-Preserving AI:** Edge AI reduces data exposure, aligning with regulations like GDPR.\\n\\n---\\n\\n### **4. Healthcare & Bioinformatics**\\n- **Diagnostic Tools:** AI models analyze medical scans (e.g., Google’s DeepMind in eye disease detection) and predict protein structures (AlphaFold3).\\n- **Drug Discovery:** Companies like Insilico Medicine use generative AI to design novel drugs in weeks instead of years.\\n\\n---\\n\\n### **5. Quantum Computing & AI Integration**\\n- **Hybrid Systems:** Quantum computing is explored for accelerating training of large models (e.g., IBM’s Qiskit AI toolkit).\\n- **Optimization Problems:** Quantum-inspired algorithms are applied to logistics and climate modeling.\\n\\n---\\n\\n### **6. Robotics & Autonomous Systems**\\n- **Humanoid Robots:** Boston Dynamics’ Atlas and Tesla’s Optimus focus on dexterous manipulation and navigation.\\n- **Warehouse Automation:** Companies like Amazon and DHL use AI-driven robots for inventory management.\\n\\n---\\n\\n### **7. Sustainability in AI**\\n- **Energy-Efficient Models:** Techniques like model compression (e.g., NVIDIA’s H100 chip) and green AI frameworks (Google’s Green AI) reduce carbon footprints.\\n- **AI for Climate:** Microsoft’s Planetary Computer uses AI to model climate change impacts.\\n\\n---\\n\\n### **8. AI Agents & Tools**\\n- **Multi-Agent Systems:** Tools like OpenAI’s Qwen and Google’s Gemini use \"agent-like\" workflows for complex tasks (e.g., coding, research).\\n- **AI-Enhanced Workflows:** Platforms like Notion AI and Figma’s design tools integrate AI for productivity.\\n\\n---\\n\\n### **9. Adversarial Robustness & Security**\\n- **Defending Against Attacks:** Research on detecting \"deepfakes\" (e.g., Facebook’s Deepfake Detection Challenge) and securing AI models from adversarial inputs.\\n- **Privacy-Preserving ML:** Techniques like federated learning (Apple’s Health Records) and differential privacy (Google’s TensorFlow Privacy).\\n\\n---\\n\\n### **10. Foundation Models & Fine-Tuning**\\n- **Pre-trained Models:** Tools like Hugging Face’s Transformers library let users fine-tune models for niche tasks (e.g., legal document analysis).\\n- **Model-As-A-Service:** Companies like Baidu’s Wenxin Yiyan and Alibaba’s Qwen offer customizable models for private sectors.\\n\\n---\\n\\n### **11. Synthetic Data & Data Efficiency**\\n- **Synthetic Data Generation:** NVIDIA’s Omniverse creates datasets for training autonomous vehicles in virtual environments.\\n- **Few-Shot Learning:** Models like Meta’s LLaMA 3 perform well with minimal training data, reducing data dependency.\\n\\n---\\n\\n### **12. AI in Education & Workforce**\\n- **Personalized Learning:** Platforms like Coursera and Duolingo use adaptive AI to tailor educational content.\\n- **Skill Development:** Upskilling programs focus on AI literacy, with platforms like Coursera’s AI courses.\\n\\n---\\n\\n### **13. AI for Social Good**\\n- **Disaster Response:** AI models predict natural disasters (e.g., climate change impacts) and optimize aid distribution.\\n- **Accessibility:** Tools like Microsoft’s Seeing AI aid visually impaired users.\\n\\n---\\n\\n### **14. Reinforcement Learning (RL) Advances**\\n- **RLHF (Reinforcement Learning with Human Feedback):** Used in chatbots like Anthropic’s Claude to align outputs with human values.\\n- **Game & Robotics:** RL drives progress in complex tasks like autonomous driving (Waymo) and robot control.\\n\\n---\\n\\n### **15. AI-Driven Business Models**\\n- **AI Startups:** Companies like Stability AI and Runway raise billions to democratize generative tools.\\n- **Subscription Models:** SalesForce’s Einstein and SAP’s AI services integrate AI into enterprise workflows.\\n\\n---\\n\\n### **16. Ethical Concerns & Societal Impact**\\n- **Bias Mitigation:** Research focuses on reducing racial/gender bias in facial recognition and hiring tools.\\n- **Job Market Shifts:** Upskilling initiatives address automation’s impact on employment (e.g., World Economic Forum reports).\\n\\n---\\n\\n### **Key Takeaways (2023–2024)**\\n- **Generative AI’s Dominance:** Tools like DALL-E 3 and Stable Diffusion remain central, but challenges around misinformation and copyright persist.\\n- **Regulation Momentum:** The EU’s AI Act and U.S. AI Bill push for accountability, particularly in high-risk sectors like healthcare and policing.\\n- **Edge-to-Cloud Integration:** Devices like iPhone 15 leverage on-device AI (e.g., Apple’s Vision Pro) for privacy and speed.\\n- **Quantum-AI Synergy:** Early experiments aim to tackle complex problems (e.g., drug discovery, logistics optimization).\\n\\n---\\n\\nThese trends reflect both technological advancements and societal responses, emphasizing practical applications while addressing ethical and regulatory challenges.', additional_kwargs={}, response_metadata={'token_usage': {'completion_tokens': 2207, 'prompt_tokens': 18, 'total_tokens': 2225, 'completion_time': 5.474226699, 'prompt_time': 0.005419556, 'queue_time': 2.099079375, 'total_time': 5.4796462550000005}, 'model_name': 'qwen-qwq-32b', 'system_fingerprint': 'fp_3796682456', 'finish_reason': 'stop', 'logprobs': None}, id='run-7c6f1ee9-1495-4afb-90ce-5d32b7c65a55-0', usage_metadata={'input_tokens': 18, 'output_tokens': 2207, 'total_tokens': 2225})"
      ]
     },
     "execution_count": 12,
     "metadata": {},
     "output_type": "execute_result"
    }
   ],
   "source": [
    "llm.invoke(\"What are the recent trends in AI?\")"
   ]
  },
  {
   "cell_type": "code",
   "execution_count": 13,
   "id": "4ff67de9",
   "metadata": {},
   "outputs": [],
   "source": [
    "lllm_with_tools = llm.bind_tools(tools=tools)"
   ]
  },
  {
   "cell_type": "code",
   "execution_count": 14,
   "id": "9d41691b",
   "metadata": {},
   "outputs": [
    {
     "data": {
      "text/plain": [
       "AIMessage(content='\\n<think>\\nOkay, so I need to figure out the recent trends in AI. Let me start by recalling what I know. I remember hearing about things like large language models, maybe like GPT or something. Oh right, those are the big models that can generate text. But that\\'s been around for a while. Maybe there\\'s something newer? I think there\\'s been a lot about AI in healthcare, like helping with diagnoses. Also, maybe something with computer vision? I heard about self-driving cars, but is that still a trend or has it moved on?\\n\\nWait, I think there\\'s been a focus on AI ethics and regulation. Companies are getting more concerned about bias in algorithms and privacy issues. That might be a trend. Also, maybe generative AI, like creating images or videos? Oh, like DALL-E or Midjourney? Those have been popular. \\n\\nOh, and there\\'s something about reinforcement learning and how that\\'s being applied in robotics or games. Maybe AlphaGo was a big deal, but is there more recent stuff? Also, there\\'s edge AI, where processing happens on devices instead of the cloud, which would save bandwidth and be faster. \\n\\nI think the term \"foundation models\" is thrown around a lot now, though I\\'m not entirely sure what they are exactly. Maybe they\\'re large pre-trained models that can be adapted for various tasks? Yes, that sounds right. \\n\\nAnother thing I\\'ve heard is AI in sustainability and climate change. Like optimizing energy use or predicting environmental changes. That could be a trend. Also, maybe multimodal models, which can handle different types of data like text, images, and audio together. \\n\\nI should also consider areas like NLP improvements, maybe with better contextual understanding. Oh, there\\'s been talk about \"few-shot learning\" and \"zero-shot learning\" where models can perform tasks with minimal examples. That might be a trend in making models more efficient. \\n\\nQuantum computing and AI? I\\'m not sure if that\\'s a current trend, but maybe there\\'s some overlap where quantum algorithms can enhance machine learning. \\n\\nOh, and the open-source movement in AI, like the rise of frameworks and models being released publicly, which democratizes access. Also, maybe collaboration between big companies and academia on certain projects. \\n\\nWait, there\\'s also something called \"AI for Science\" where AI is used in scientific research, like drug discovery or material science. That\\'s a newer thing, right?\\n\\nHmm, I should structure these into categories. Let me see:\\n\\n1. **Large Language Models (LLMs)** - These have gotten bigger and better, maybe more efficient, and specialized for different tasks. \\n\\n2. **Generative AI** - Beyond text, generating images, videos, 3D models, etc. Tools like DALL-E, Stable Diffusion. \\n\\n3. **AI Ethics and Regulation** - More focus on responsible AI, reducing bias, data privacy laws like GDPR and others. \\n\\n4. **Multimodal and Multilingual Models** - Models that can handle multiple data types and languages, like MosaicML or projects from Meta or Google. \\n\\n5. **Edge AI and Real-Time Processing** - Deploying models on devices for low latency, like in smartphones or IoT devices. \\n\\n6. **Explainable AI (XAI)** - Making models more transparent so people can understand how decisions are made. Important for trust. \\n\\n7. **AI in Healthcare** - Diagnostics, drug discovery, personalized medicine. Examples like IBM Watson, but maybe more recent advancements. \\n\\n8. **AI and Climate Science** - Predicting climate changes, optimizing energy grids, carbon footprint reduction. \\n\\n9. **Robotics and Autonomous Systems** - More advanced robotics using AI for navigation and tasks. \\n\\n10. **Quantum Machine Learning** - Exploring the intersection of quantum computing and AI to solve complex problems faster. \\n\\n11. **Metaverse and AI Integration** - AI in virtual worlds, avatars, and immersive environments. \\n\\n12. **AI in Education** - Personalized learning platforms, grading, tutoring systems. \\n\\n13. **AI in Agriculture** - Precision farming, crop monitoring with drones and AI. \\n\\n14. **AI for Cybersecurity** - Detecting threats, automating responses, predicting attacks. \\n\\n15. **Open Source AI Ecosystem** - More models and tools being open source to foster innovation. \\n\\nWait, maybe I\\'m mixing some trends here. Let me check if I\\'m missing anything. Oh, maybe the move towards model efficiency and reducing computational costs. Like using smaller models or knowledge distillation. \\n\\nAlso, federated learning where models are trained on decentralized data without sharing the data itself. That\\'s about privacy and data regulation. \\n\\nAnother point is the rise of AI-driven content creation tools for businesses, like automated marketing content or customer service chatbots. \\n\\nI should also consider the shift towards more collaborative AI projects, maybe in areas like global health or environmental challenges. The use of AI in space exploration, like NASA using AI to analyze data from missions. \\n\\nWait, did I mention reinforcement learning? Maybe that\\'s part of robotics or game playing. Also, AI in creative industries like music or art, generative adversarial networks (GANs) maybe. \\n\\nOh, and maybe the concept of \"AI as a service\" where companies offer AI tools through cloud platforms, making it accessible to more businesses. \\n\\nI should organize these into coherent points, maybe group similar trends. Let me see the original answer provided earlier as a reference. The previous response had sections like LLMs, generative AI, ethics, multimodal, etc. So maybe I can structure my thoughts similarly but ensure I don\\'t miss any key areas. \\n\\nWait, I also remember something about AI in the legal sector, like predicting case outcomes or legal research. Also, in finance for fraud detection or algorithmic trading. \\n\\nPerhaps also the integration of AI with other technologies like AR/VR, IoT devices, and the Internet of Things. \\n\\nAnother angle is the democratization of AI, making it more accessible to smaller companies and startups through platforms like AWS or Google Cloud AI services. \\n\\nAlso, the focus on AI explainability and transparency is important for industries where decisions need to be justified, like healthcare or finance. \\n\\nI think I need to make sure each point is a distinct trend and not overlapping too much. Let me try to list them as a numbered list with explanations, similar to the previous answer but with my own understanding. Maybe 15 points as in the example, but perhaps some can be combined. \\n\\nWait, looking back, the previous answer had 15 points. Let me see if I can get that many. \\n\\n1. LLMs and Beyond - bigger models, specialized versions, efficiency.\\n\\n2. Generative AI - image, video, audio.\\n\\n3. Ethical AI and Regulation - fairness, bias, explainability.\\n\\n4. Multimodal Models - handling multiple data types.\\n\\n5. Edge AI - on-device processing.\\n\\n6. AI in Healthcare - diagnostics, drug discovery.\\n\\n7. AI in Climate and Sustainability - environmental applications.\\n\\n8. Robotics and Autonomous Systems - better robots, self-driving cars.\\n\\n9. Quantum ML - though maybe still emerging.\\n\\n10. AI-driven Content Creation - marketing, creative fields.\\n\\n11. Federated Learning - privacy-focused training.\\n\\n12. AI in Education and E-learning - adaptive learning platforms.\\n\\n13. AI for Scientific Research - accelerating scientific breakthroughs.\\n\\n14. AI in Cybersecurity - threat detection.\\n\\n15. Open Source and Collaborative AI - more open models, community projects.\\n\\nHmm, that\\'s 15. Maybe I missed some like AI in law or finance, but those could be under specific industries. Alternatively, maybe the example answer had different categories but similar ideas. \\n\\nAlternatively, perhaps I need to include things like transfer learning, few-shot learning as part of model efficiency. Also, maybe the use of AI in agriculture, which is a separate trend. \\n\\nAnother thought: the rise of AI in customer service, like chatbots and virtual assistants becoming more sophisticated. \\n\\nAlso, maybe the trend towards using AI to accelerate research in other fields, like protein folding (AlphaFold) or material discovery. \\n\\nI should also consider the growth of AI startups and investment in the sector, but that\\'s more of an economic trend rather than technological. \\n\\nAlright, trying to structure this into a coherent list with explanations, making sure each point is a distinct trend. Let me think of each point with a brief explanation. \\n\\nWait, I need to make sure I\\'m accurate. For example, quantum computing and AI: is that a real trend now or still in early stages? Maybe it\\'s still emerging but getting attention. \\n\\nEdge AI is definitely a trend for real-time processing. \\n\\nOkay, maybe proceed with these points, ensuring each is a separate trend and explained concisely.\\n</think>\\n\\nHere’s a structured overview of recent trends in AI, organized into key areas with explanations of each trend:\\n\\n---\\n\\n### 1. **Large Language Models (LLMs) and Scaling**\\n   - **Description**: The development of increasingly large, versatile language models (e.g., GPT-4, Llama 3) that excel at tasks like writing, coding, and reasoning. Focus on efficiency (e.g., smaller, faster models) and specialized versions (e.g., medical, legal, or coding-specific LLMs).\\n   - **Why It Matters**: Enables advanced applications like personalized education, content creation, and customer service automation.\\n\\n---\\n\\n### 2. **Generative AI & Creative Tools**\\n   - **Description**: Tools like DALL-E, Midjourney, and Stable Diffusion generate high-quality images, videos, 3D models, and music. Newer trends include text-to-video (e.g., Runway ML) and video editing (e.g., ControlNet).\\n   - **Impact**: Democratizes creative tools for industries like advertising, gaming, and art, while raising ethical concerns around deepfakes.\\n\\n---\\n\\n### 3. **Ethical AI and Regulation**\\n   - **Description**: Growing emphasis on fairness, transparency, and bias mitigation in AI systems. Regulations like the EU’s AI Act and the US’s proposed AI bills aim to enforce responsible AI deployment.\\n   - **Key Areas**: Addressing algorithmic bias, privacy (e.g., federated learning), and explainability (XAI) for accountability.\\n\\n---\\n\\n### 4. **Multimodal and Multilingual Models**\\n   - **Description**: Models like Google’s Gemini and Meta’s LLaMA can process text, images, audio, and video together. Multilingual models (e.g., XLM-R) support global accessibility.\\n   - **Use Cases**: Enhanced chatbots, cross-lingual research, and universal assistants.\\n\\n---\\n\\n### 5. **Edge AI and Real-Time Processing**\\n   - **Description**: Deploying AI models on devices (smartphones, IoT devices) to reduce latency and reliance on cloud computing. Examples include Apple’s Core ML and Google’s TensorFlow Lite.\\n   - **Benefits**: Privacy preservation and real-time applications (e.g., autonomous vehicles, AR/VR).\\n\\n---\\n\\n### 6. **AI in Healthcare**\\n   - **Breakthroughs**: \\n     - **Diagnostics**: AI tools for detecting diseases (e.g., cancer screening via radiology).\\n     - **Drug Discovery**: Accelerating clinical trials and identifying new medications (e.g., DeepMind’s AlphaFold for protein structures).\\n     - **Personalized Medicine**: Tailoring treatments using patient data.\\n\\n---\\n\\n### 7. **Climate and Sustainability**\\n   - **Applications**: \\n     - Predicting climate change impacts.\\n     - Optimizing energy grids, reducing emissions, and designing sustainable materials.\\n   - **Initiatives**: Microsoft’s Climate Innovation Fund and AI for Earth projects exemplify this trend.\\n\\n---\\n\\n### 8. **Autonomous Systems and Robotics**\\n   - **Progress**: \\n     - Self-driving cars (Waymo, Tesla) and robots for manufacturing/retail (e.g., Boston Dynamics’ Spot).\\n     - Reinforcement learning and simulation training for complex tasks.\\n   - **Impact**: Streamline logistics, delivery, and industrial processes.\\n\\n---\\n\\n### 9. **Quantum Machine Learning**\\n   - **Emerging Field**: Exploring how quantum computing can accelerate AI tasks, like optimization problems or drug discovery. Still experimental but gaining traction.\\n\\n---\\n\\n### 10. **AI-Driven Content Creation**\\n   - **Growth**: \\n     - Tools like Jasper for copywriting, Runway for video editing, and GitHub Copilot for coding.\\n     - Challenges include copyright issues and misinformation.\\n\\n---\\n\\n### 11. **Federated Learning and Privacy-Preserving AI**\\n   - **Focus**: Training models on decentralized data without sharing raw data (e.g., healthcare data), enhancing privacy (e.g., Apple’s Health Records).\\n\\n---\\n\\n### 12. **AI in Education**\\n   - **Advancements**: \\n     - Adaptive learning platforms (e.g., Coursera, Khan Academy) tailored to individual needs.\\n     - Grading and feedback automation for scalable education.\\n\\n---\\n\\n### 13. **AI for Scientific Research**\\n   - **Examples**: \\n     - AlphaFold for protein structure prediction.\\n     - Accelerating materials science and climate modeling through AI simulations.\\n\\n---\\n\\n### 14. **AI in Cybersecurity**\\n   - **Applications**: \\n     - Detecting cyber threats, phishing, and malware in real time.\\n     - Ethical challenges include adversarial attacks on AI systems.\\n\\n---\\n\\n### 15. **Open Source Ecosystem and Democratization**\\n   - **Trends**: \\n     - Open-source models (e.g., Hugging Face’s libraries, PyTorch, TensorFlow) and platforms like LangChain.\\n     - Startups and researchers leveraging open-source tools to innovate without heavy computational costs.\\n\\n---\\n\\n### Additional Notable Trends:\\n- **AI in Legal and Financial Sectors**: \\n  - **Legal**: Predictive analytics for case outcomes, contract review (e.g., LegalVision).\\n  - **Finance**: Fraud detection, algorithmic trading, and personalized banking.\\n- **AI in Agriculture**: \\n  - Precision farming with drones, sensors, and predictive analytics for crop yields and sustainability.\\n- **Metaverse Integration**: \\n  - AI-driven avatars, virtual assistants, and AI-generated 3D environments for gaming and social platforms.\\n\\n---\\n\\n### Key Drivers:\\n- **Compute Efficiency**: Smaller, faster models (e.g., NanoGPT) reduce costs and energy use.\\n- **Collaboration**: Partnerships between tech giants, academia, and governments (e.g., NIH’s AI initiatives).\\n- **AI as a Service**: Cloud providers (AWS, Azure) offer AI tools for businesses to integrate without expertise.\\n\\n---\\n\\nThese trends reflect a shift toward **ethical, efficient, and specialized AI** that addresses societal challenges while balancing innovation with responsibility.', additional_kwargs={}, response_metadata={'token_usage': {'completion_tokens': 3062, 'prompt_tokens': 18, 'total_tokens': 3080, 'completion_time': 7.662599196, 'prompt_time': 0.009940034, 'queue_time': 1.879738858, 'total_time': 7.67253923}, 'model_name': 'qwen-qwq-32b', 'system_fingerprint': 'fp_512a3da6bb', 'finish_reason': 'stop', 'logprobs': None}, id='run-dc1bb517-f340-4ddc-af03-14a0b06057ea-0', usage_metadata={'input_tokens': 18, 'output_tokens': 3062, 'total_tokens': 3080})"
      ]
     },
     "execution_count": 14,
     "metadata": {},
     "output_type": "execute_result"
    }
   ],
   "source": [
    "llm.invoke(\"What are the recent trends in AI?\")"
   ]
  },
  {
   "cell_type": "code",
   "execution_count": 15,
   "id": "2292b63a",
   "metadata": {},
   "outputs": [],
   "source": [
    "from typing_extensions import TypedDict\n",
    "from langchain_core.messages import AnyMessage\n",
    "from typing import Annotated\n",
    "from langgraph.graph.message import add_messages"
   ]
  },
  {
   "cell_type": "code",
   "execution_count": 16,
   "id": "4b1a9911",
   "metadata": {},
   "outputs": [],
   "source": [
    "class State(TypedDict):\n",
    "    messages: list[Annotated[list[AnyMessage], add_messages]]"
   ]
  },
  {
   "cell_type": "code",
   "execution_count": 17,
   "id": "415bfea7",
   "metadata": {},
   "outputs": [],
   "source": [
    "from IPython.display import Image, display\n",
    "from langgraph.graph import StateGraph, START, END\n",
    "from langgraph.prebuilt import ToolNode\n",
    "from langgraph.prebuilt import tools_condition"
   ]
  },
  {
   "cell_type": "code",
   "execution_count": 18,
   "id": "9cf27b59",
   "metadata": {},
   "outputs": [
    {
     "data": {
      "text/plain": [
       "<langgraph.graph.state.StateGraph at 0x1a9b7603050>"
      ]
     },
     "execution_count": 18,
     "metadata": {},
     "output_type": "execute_result"
    }
   ],
   "source": [
    "def tool_calling_1lm(state:State):\n",
    "   return {\"messages\": [lllm_with_tools.invoke(state[\"messages\"])]}\n",
    "\n",
    "builder = StateGraph(State)\n",
    "builder.add_node(\"tool_calling_11m\", tool_calling_1lm)\n",
    "builder.add_node(\"tools\", ToolNode(tools))"
   ]
  },
  {
   "cell_type": "code",
   "execution_count": 19,
   "id": "97ea48eb",
   "metadata": {},
   "outputs": [
    {
     "data": {
      "image/png": "[encoded data removed]",
      "text/plain": [
       "<IPython.core.display.Image object>"
      ]
     },
     "metadata": {},
     "output_type": "display_data"
    }
   ],
   "source": [
    "builder.add_edge(START, \"tool_calling_11m\")\n",
    "builder.add_conditional_edges(\n",
    "   \"tool_calling_11m\",\n",
    "   tools_condition)\n",
    "builder.add_edge(\"tools\", END)\n",
    "\n",
    "graph = builder.compile()\n",
    "display(Image(graph.get_graph().draw_mermaid_png()))"
   ]
  },
  {
   "cell_type": "code",
   "execution_count": 23,
   "id": "32866f85",
   "metadata": {},
   "outputs": [
    {
     "name": "stdout",
     "output_type": "stream",
     "text": [
      "=================================\u001b[1m Tool Message \u001b[0m=================================\n",
      "Name: arxiv\n",
      "\n",
      "Published: 2024-09-30\n",
      "Title: AI versus AI in Financial Crimes and Detection: GenAI Crime Waves to Co-Evolutionary AI\n",
      "Authors: Eren Kurshan, Dhagash Mehta, Bayan Bruss, Tucker Balch\n",
      "Summary: Adoption of AI by criminal entities across traditional and emerging financial\n",
      "crime paradigms has been a disturbing recent trend. Particularly concerning is\n",
      "the proliferation of generative AI, which has empowered criminal activities\n",
      "ranging from sophisticated phishing schemes to the creation of hard-to-detect\n",
      "=================================\u001b[1m Tool Message \u001b[0m=================================\n",
      "Name: tavily_search_results_json\n",
      "\n",
      "[{\"title\": \"11 New Technologies in AI: All Trends of 2023-2024 - devabit\", \"url\": \"https://devabit.com/blog/top-11-new-technologies-in-ai-exploring-the-latest-trends/\", \"content\": \"A recent LinkedIn US Executive Confidence Index Survey from June 2023 reflects an optimistic outlook: 47% of executives believe generative AI will boost productivity; 44% plan to augment their newest AI technology utilization in the coming year; and 40% view AI as a key to unlocking growth and revenue. Microsoft's 2023 Work Trend Index further bolsters this sentiment, revealing that a whopping 70% of individuals would gladly delegate tasks to AI to ease their workloads. [...] GPT-3.5 and GPT-4 are just the beginning. The pace of AI model development suggests that even more capable language models are on the horizon, with implications for industries ranging from content creation to virtual assistants.\\n\\nOn November 6, 2023, CEO of OpenAI Sam Altman introduced a completely new version of Chat GPT that includes GPTs, Chat GPT Store, GPT-4 Turbo, and other new technologies in AI that we are going to describe in this article. [...] To begin with, the MarketsandMarkets research states that the global artificial intelligence market is projected to reach USD 1345.2 billion by 2030, at a CAGR of 36.8% during the forecast period of 2023–2030. Such rapid growth is caused by its synergistic interaction with various other technologies. The convergence of artificial intelligence with other transformative technologies such as the Internet of Things (IoT), robotics, natural language processing (NLP), and computer vision enhances\", \"score\": 0.8810534}, {\"title\": \"The major trends in Artificial Intelligence for 2023 - Bocasay\", \"url\": \"https://www.bocasay.com/major-ai-trends-2023/\", \"content\": \"The numbers are simply impressive. The estimated cost of the global AI market currently stands at over $200 billion. According to a report by Precedence Research, by 2030, the volume of the global AI sector is projected to reach a staggering $1.85 trillion.\\n\\nIn this article, Bocasay, our offshore IT agency based in Vietnam, provides an overview of the latest and most impactful AI trends in 2023. Read on!\\n\\nTop AI Trends in 2023\\n\\nGenerative AI [...] AI-powered technologies are nothing new. In fact, AI has had a transformative impact on a wide range of business sectors for at least a decade. In 2023, what is new, is the explosive growth of generative AI tools like ChatGPT and Bard, essentially thrusting the AI sector into mainstream awareness. [...] ➤ Enhanced Agility and Responsiveness: Hyper-automation enables manufacturers to quickly adapt to changing market demands, switch production lines and to customize products to meet customer requirements efficiently.\\n\\n➤ Predictive Maintenance: IoT sensors and AI can predict when machinery and equipment need maintenance, reducing downtime and extending the lifespan of manufacturing assets.\", \"score\": 0.8668671}, {\"title\": \"6 Biggest AI Development Trends to Watch in 2023 - Full Scale\", \"url\": \"https://fullscale.io/blog/ai-development-trends-2023/\", \"content\": \"This has led to several breakthroughs in areas such as natural language processing and image recognition. AI is also being used to power a new generation of applications, including chatbots, autonomous vehicles, and predictive analytics.\\n\\nThe future of AI is bright, and the industry will only continue to grow. To stay ahead of the curve, you need to make sure that your software team is aware of the latest AI development trends. Let’s get started!\\n\\n1. Automated Machine Learning (AutoML) [...] This technology will become increasingly popular in 2023 as it can reduce the time needed to train a model by a considerable amount. It also has potential applications in healthcare, finance, retail, and many other industries.\\n\\n2. Generative AI\\n\\nArtificial intelligence is not just a way to improve automation and decision-making tasks. Recently, this domain has been branching out to perform creative tasks based on instructions. This is called generative AI. [...] The resurgence of artificial intelligence in recent years can be attributed to a number of factors, including the availability of big data and the rise of cloud computing. With so much data available, AI has become better than ever at learning from examples and making predictions. In addition, the cloud has made it possible to run large-scale applications on a single server.\", \"score\": 0.85995835}, {\"title\": \"Four trends that changed AI in 2023 | MIT Technology Review\", \"url\": \"https://www.technologyreview.com/2023/12/19/1085696/four-trends-that-changed-ai-in-2023/\", \"content\": \"The year started with Big Tech going all in on generative AI. The runaway success of OpenAI’s ChatGPT prompted every major tech company to release its own version. This year might go down in history as the year we saw the most AI launches: Meta’s LLaMA 2, Google’s Bard chatbot and Gemini, Baidu’s Ernie Bot, OpenAI’s GPT-4, and a handful of other models, including one from a French open-source challenger, Mistral. [...] This has been one of the craziest years in AI in a long time: endless product launches, boardroom coups, intense policy debates about AI doom, and a race to find the next big thing. But we’ve also seen concrete tools and policies aimed at getting the AI sector to behave more responsibly and hold powerful players accountable. That gives me a lot of hope for the future of AI.\\n\\nHere’s what 2023 taught me:\\n\\n1. Generative AI left the lab with a vengeance, but it’s not clear where it will go next [...] Four trends that changed AI in 2023\\n\\nEndless product launches, boardroom coups, intense policy debates, and a race to find the next big thing — it’s been a busy year.\\n\\nThis story originally appeared in The Algorithm, our weekly newsletter on AI. To get stories like this in your inbox first, sign up here.\", \"score\": 0.853046}, {\"title\": \"AI Trends Reshaping Technology in 2023 - E2E Networks\", \"url\": \"https://www.e2enetworks.com/blog/a-comprehensive-overview-of-the-10-ai-trends-reshaping-technology-in-2023\", \"content\": \"AI optimization in software development processes will have a greater impact in 2023, leading to increased cooperation, knowledge exchange, and\", \"score\": 0.81524754}]\n"
     ]
    }
   ],
   "source": [
    "messages=graph.invoke({\"messages\":\"What are the recent trends in AI?\"})\n",
    "for m in messages ['messages']:\n",
    "   m.pretty_print()"
   ]
  },
  {
   "cell_type": "code",
   "execution_count": null,
   "id": "00b0e795",
   "metadata": {},
   "outputs": [],
   "source": []
  }
 ],
 "metadata": {
  "kernelspec": {
   "display_name": "venv",
   "language": "python",
   "name": "python3"
  },
  "language_info": {
   "codemirror_mode": {
    "name": "ipython",
    "version": 3
   },
   "file_extension": ".py",
   "mimetype": "text/x-python",
   "name": "python",
   "nbconvert_exporter": "python",
   "pygments_lexer": "ipython3",
   "version": "3.12.7"
  }
 },
 "nbformat": 4,
 "nbformat_minor": 5
}
